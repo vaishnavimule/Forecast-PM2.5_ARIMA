{
  "nbformat": 4,
  "nbformat_minor": 0,
  "metadata": {
    "colab": {
      "name": "Forecast PM2.5_ARIMA.ipynb",
      "provenance": [],
      "collapsed_sections": [],
      "include_colab_link": true
    },
    "kernelspec": {
      "name": "python3",
      "display_name": "Python 3"
    }
  },
  "cells": [
    {
      "cell_type": "markdown",
      "metadata": {
        "id": "view-in-github",
        "colab_type": "text"
      },
      "source": [
        "<a href=\"https://colab.research.google.com/github/vaishnavimule/Forecast-PM2.5_ARIMA/blob/main/Forecast_PM2_5_ARIMA.ipynb\" target=\"_parent\"><img src=\"https://colab.research.google.com/assets/colab-badge.svg\" alt=\"Open In Colab\"/></a>"
      ]
    },
    {
      "cell_type": "code",
      "metadata": {
        "id": "rgI5xsf7eUVw",
        "colab": {
          "base_uri": "https://localhost:8080/"
        },
        "outputId": "c7698a65-c788-4f12-9337-21fcc30482c6"
      },
      "source": [
        "pip install pmdarima"
      ],
      "execution_count": null,
      "outputs": [
        {
          "output_type": "stream",
          "text": [
            "Requirement already satisfied: pmdarima in /usr/local/lib/python3.7/dist-packages (1.8.2)\n",
            "Requirement already satisfied: scipy>=1.3.2 in /usr/local/lib/python3.7/dist-packages (from pmdarima) (1.4.1)\n",
            "Requirement already satisfied: numpy~=1.19.0 in /usr/local/lib/python3.7/dist-packages (from pmdarima) (1.19.5)\n",
            "Requirement already satisfied: pandas>=0.19 in /usr/local/lib/python3.7/dist-packages (from pmdarima) (1.1.5)\n",
            "Requirement already satisfied: scikit-learn>=0.22 in /usr/local/lib/python3.7/dist-packages (from pmdarima) (0.22.2.post1)\n",
            "Requirement already satisfied: Cython!=0.29.18,>=0.29 in /usr/local/lib/python3.7/dist-packages (from pmdarima) (0.29.23)\n",
            "Requirement already satisfied: urllib3 in /usr/local/lib/python3.7/dist-packages (from pmdarima) (1.24.3)\n",
            "Requirement already satisfied: statsmodels!=0.12.0,>=0.11 in /usr/local/lib/python3.7/dist-packages (from pmdarima) (0.12.2)\n",
            "Requirement already satisfied: joblib>=0.11 in /usr/local/lib/python3.7/dist-packages (from pmdarima) (1.0.1)\n",
            "Requirement already satisfied: setuptools!=50.0.0,>=38.6.0 in /usr/local/lib/python3.7/dist-packages (from pmdarima) (57.0.0)\n",
            "Requirement already satisfied: pytz>=2017.2 in /usr/local/lib/python3.7/dist-packages (from pandas>=0.19->pmdarima) (2018.9)\n",
            "Requirement already satisfied: python-dateutil>=2.7.3 in /usr/local/lib/python3.7/dist-packages (from pandas>=0.19->pmdarima) (2.8.1)\n",
            "Requirement already satisfied: patsy>=0.5 in /usr/local/lib/python3.7/dist-packages (from statsmodels!=0.12.0,>=0.11->pmdarima) (0.5.1)\n",
            "Requirement already satisfied: six>=1.5 in /usr/local/lib/python3.7/dist-packages (from python-dateutil>=2.7.3->pandas>=0.19->pmdarima) (1.15.0)\n"
          ],
          "name": "stdout"
        }
      ]
    },
    {
      "cell_type": "code",
      "metadata": {
        "id": "sJUCGgJAeXmn"
      },
      "source": [
        "import pandas as pd\n",
        "import numpy as np"
      ],
      "execution_count": null,
      "outputs": []
    },
    {
      "cell_type": "markdown",
      "metadata": {
        "id": "kzMWL_bGvvuY"
      },
      "source": [
        "#Read Data"
      ]
    },
    {
      "cell_type": "code",
      "metadata": {
        "id": "rKYgCgvcebUM",
        "colab": {
          "base_uri": "https://localhost:8080/",
          "height": 418
        },
        "outputId": "990cbb4b-8a64-4b54-95c1-49c4e46fad1c"
      },
      "source": [
        "df=pd.read_csv('/content/PM1.0(Jan-Apr-Aug).csv',parse_dates=True)\n",
        "df=df.dropna()\n",
        "#df.index_col = pd.to_datetime(df.DATE, errors='coerce')\n",
        "df['DATE']= pd.to_datetime(df['DATE'])\n",
        "df.set_index(\"DATE\", inplace = True)\n",
        "df.info()\n",
        "#df1['Date']= pd.to_datetime(df['Date'])\n",
        "print('Shape of data',df.shape)\n",
        "df.head()"
      ],
      "execution_count": null,
      "outputs": [
        {
          "output_type": "stream",
          "text": [
            "<class 'pandas.core.frame.DataFrame'>\n",
            "DatetimeIndex: 1610 entries, 2020-04-10 16:27:17+00:00 to 2020-04-18 23:59:56+00:00\n",
            "Data columns (total 3 columns):\n",
            " #   Column  Non-Null Count  Dtype  \n",
            "---  ------  --------------  -----  \n",
            " 0   Jan-20  1610 non-null   float64\n",
            " 1   Apr-20  1610 non-null   float64\n",
            " 2   Aug-20  1610 non-null   float64\n",
            "dtypes: float64(3)\n",
            "memory usage: 50.3 KB\n",
            "Shape of data (1610, 3)\n"
          ],
          "name": "stdout"
        },
        {
          "output_type": "execute_result",
          "data": {
            "text/html": [
              "<div>\n",
              "<style scoped>\n",
              "    .dataframe tbody tr th:only-of-type {\n",
              "        vertical-align: middle;\n",
              "    }\n",
              "\n",
              "    .dataframe tbody tr th {\n",
              "        vertical-align: top;\n",
              "    }\n",
              "\n",
              "    .dataframe thead th {\n",
              "        text-align: right;\n",
              "    }\n",
              "</style>\n",
              "<table border=\"1\" class=\"dataframe\">\n",
              "  <thead>\n",
              "    <tr style=\"text-align: right;\">\n",
              "      <th></th>\n",
              "      <th>Jan-20</th>\n",
              "      <th>Apr-20</th>\n",
              "      <th>Aug-20</th>\n",
              "    </tr>\n",
              "    <tr>\n",
              "      <th>DATE</th>\n",
              "      <th></th>\n",
              "      <th></th>\n",
              "      <th></th>\n",
              "    </tr>\n",
              "  </thead>\n",
              "  <tbody>\n",
              "    <tr>\n",
              "      <th>2020-04-10 16:27:17+00:00</th>\n",
              "      <td>24.99</td>\n",
              "      <td>8.82</td>\n",
              "      <td>0.84</td>\n",
              "    </tr>\n",
              "    <tr>\n",
              "      <th>2020-04-10 16:34:39+00:00</th>\n",
              "      <td>26.82</td>\n",
              "      <td>9.13</td>\n",
              "      <td>2.05</td>\n",
              "    </tr>\n",
              "    <tr>\n",
              "      <th>2020-04-10 16:42:01+00:00</th>\n",
              "      <td>25.81</td>\n",
              "      <td>9.39</td>\n",
              "      <td>1.88</td>\n",
              "    </tr>\n",
              "    <tr>\n",
              "      <th>2020-04-10 16:49:32+00:00</th>\n",
              "      <td>25.75</td>\n",
              "      <td>9.44</td>\n",
              "      <td>1.78</td>\n",
              "    </tr>\n",
              "    <tr>\n",
              "      <th>2020-04-10 16:57:00+00:00</th>\n",
              "      <td>26.02</td>\n",
              "      <td>9.00</td>\n",
              "      <td>1.85</td>\n",
              "    </tr>\n",
              "  </tbody>\n",
              "</table>\n",
              "</div>"
            ],
            "text/plain": [
              "                           Jan-20  Apr-20  Aug-20\n",
              "DATE                                             \n",
              "2020-04-10 16:27:17+00:00   24.99    8.82    0.84\n",
              "2020-04-10 16:34:39+00:00   26.82    9.13    2.05\n",
              "2020-04-10 16:42:01+00:00   25.81    9.39    1.88\n",
              "2020-04-10 16:49:32+00:00   25.75    9.44    1.78\n",
              "2020-04-10 16:57:00+00:00   26.02    9.00    1.85"
            ]
          },
          "metadata": {
            "tags": []
          },
          "execution_count": 223
        }
      ]
    },
    {
      "cell_type": "markdown",
      "metadata": {
        "id": "JVzOIPtw8eYy"
      },
      "source": [
        ""
      ]
    },
    {
      "cell_type": "code",
      "metadata": {
        "id": "6jF0osAO8e6y",
        "colab": {
          "resources": {
            "http://localhost:8080/nbextensions/google.colab/files.js": {
              "data": "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",
              "ok": true,
              "headers": [
                [
                  "content-type",
                  "application/javascript"
                ]
              ],
              "status": 200,
              "status_text": ""
            }
          },
          "base_uri": "https://localhost:8080/",
          "height": 90
        },
        "outputId": "62aaabd3-a180-4b9e-dfdf-98c18613f9ad"
      },
      "source": [
        "from google.colab import files\n",
        "uploaded = files.upload()"
      ],
      "execution_count": null,
      "outputs": [
        {
          "output_type": "display_data",
          "data": {
            "text/html": [
              "\n",
              "     <input type=\"file\" id=\"files-62644d2a-94ee-4f06-9bf9-5e2f3aac024e\" name=\"files[]\" multiple disabled\n",
              "        style=\"border:none\" />\n",
              "     <output id=\"result-62644d2a-94ee-4f06-9bf9-5e2f3aac024e\">\n",
              "      Upload widget is only available when the cell has been executed in the\n",
              "      current browser session. Please rerun this cell to enable.\n",
              "      </output>\n",
              "      <script src=\"/nbextensions/google.colab/files.js\"></script> "
            ],
            "text/plain": [
              "<IPython.core.display.HTML object>"
            ]
          },
          "metadata": {
            "tags": []
          }
        },
        {
          "output_type": "stream",
          "text": [
            "Saving PM1.0(Jan-Apr-Aug).csv to PM1.0(Jan-Apr-Aug).csv\n"
          ],
          "name": "stdout"
        }
      ]
    },
    {
      "cell_type": "markdown",
      "metadata": {
        "id": "kVswd7W7vyi4"
      },
      "source": [
        "#Plot Your Data"
      ]
    },
    {
      "cell_type": "code",
      "metadata": {
        "id": "KppUuT8-ejqD",
        "colab": {
          "base_uri": "https://localhost:8080/",
          "height": 322
        },
        "outputId": "eb7b7e22-d6a4-4690-a9f8-4bfabc1e4b40"
      },
      "source": [
        "df['Jan-20'].plot(figsize=(12,5))"
      ],
      "execution_count": null,
      "outputs": [
        {
          "output_type": "execute_result",
          "data": {
            "text/plain": [
              "<matplotlib.axes._subplots.AxesSubplot at 0x7fe3af7b9e10>"
            ]
          },
          "metadata": {
            "tags": []
          },
          "execution_count": 224
        },
        {
          "output_type": "display_data",
          "data": {
            "image/png": "[encoded data removed]",
            "text/plain": [
              "<Figure size 864x360 with 1 Axes>"
            ]
          },
          "metadata": {
            "tags": [],
            "needs_background": "light"
          }
        }
      ]
    },
    {
      "cell_type": "markdown",
      "metadata": {
        "id": "2YK8qw2Gv1bT"
      },
      "source": [
        "#Check For Stationarity"
      ]
    },
    {
      "cell_type": "code",
      "metadata": {
        "id": "8TqnvNbBexKT"
      },
      "source": [
        "from statsmodels.tsa.stattools import adfuller\n",
        "\n",
        "def adf_test(dataset):\n",
        "  dftest = adfuller(dataset, autolag = 'AIC')\n",
        "  print(\"1. ADF : \",dftest[0])\n",
        "  print(\"2. P-Value : \", dftest[1])\n",
        "  print(\"3. Num Of Lags : \", dftest[2])\n",
        "  print(\"4. Num Of Observations Used For ADF Regression and Critical Values Calculation :\", dftest[3])\n",
        "  print(\"5. Critical Values :\")\n",
        "  for key, val in dftest[4].items():\n",
        "      print(\"\\t\",key, \": \", val)"
      ],
      "execution_count": null,
      "outputs": []
    },
    {
      "cell_type": "code",
      "metadata": {
        "id": "muTlXcZYe3Jk",
        "colab": {
          "base_uri": "https://localhost:8080/"
        },
        "outputId": "c0855b89-b1ae-4fc8-eca7-2215862a929a"
      },
      "source": [
        "adf_test(df['Jan-20'])"
      ],
      "execution_count": null,
      "outputs": [
        {
          "output_type": "stream",
          "text": [
            "1. ADF :  -4.302026716953222\n",
            "2. P-Value :  0.00044063622230645504\n",
            "3. Num Of Lags :  12\n",
            "4. Num Of Observations Used For ADF Regression and Critical Values Calculation : 1597\n",
            "5. Critical Values :\n",
            "\t 1% :  -3.434451341329522\n",
            "\t 5% :  -2.863351500889469\n",
            "\t 10% :  -2.567734407591096\n"
          ],
          "name": "stdout"
        }
      ]
    },
    {
      "cell_type": "markdown",
      "metadata": {
        "id": "XE7o8ZDEv6TV"
      },
      "source": [
        "#Figure Out Order for ARIMA Model"
      ]
    },
    {
      "cell_type": "code",
      "metadata": {
        "id": "0Y1yq4A5e6j8"
      },
      "source": [
        "from pmdarima import auto_arima\n",
        "# Ignore harmless warnings\n",
        "import warnings\n",
        "warnings.filterwarnings(\"ignore\")"
      ],
      "execution_count": null,
      "outputs": []
    },
    {
      "cell_type": "code",
      "metadata": {
        "id": "6ikhqu-mfHCA",
        "colab": {
          "base_uri": "https://localhost:8080/",
          "height": 554
        },
        "outputId": "d8c06a74-89ec-4a21-efe5-6bc0e6a769f0"
      },
      "source": [
        "stepwise_fit = auto_arima(df['Jan-20'], \n",
        "                          suppress_warnings=True)           \n",
        "\n",
        "stepwise_fit.summary()"
      ],
      "execution_count": null,
      "outputs": [
        {
          "output_type": "execute_result",
          "data": {
            "text/html": [
              "<table class=\"simpletable\">\n",
              "<caption>SARIMAX Results</caption>\n",
              "<tr>\n",
              "  <th>Dep. Variable:</th>           <td>y</td>        <th>  No. Observations:  </th>   <td>1610</td>   \n",
              "</tr>\n",
              "<tr>\n",
              "  <th>Model:</th>           <td>SARIMAX(5, 1, 4)</td> <th>  Log Likelihood     </th> <td>-5431.195</td>\n",
              "</tr>\n",
              "<tr>\n",
              "  <th>Date:</th>            <td>Tue, 15 Jun 2021</td> <th>  AIC                </th> <td>10882.389</td>\n",
              "</tr>\n",
              "<tr>\n",
              "  <th>Time:</th>                <td>22:00:21</td>     <th>  BIC                </th> <td>10936.223</td>\n",
              "</tr>\n",
              "<tr>\n",
              "  <th>Sample:</th>                  <td>0</td>        <th>  HQIC               </th> <td>10902.374</td>\n",
              "</tr>\n",
              "<tr>\n",
              "  <th></th>                      <td> - 1610</td>     <th>                     </th>     <td> </td>    \n",
              "</tr>\n",
              "<tr>\n",
              "  <th>Covariance Type:</th>        <td>opg</td>       <th>                     </th>     <td> </td>    \n",
              "</tr>\n",
              "</table>\n",
              "<table class=\"simpletable\">\n",
              "<tr>\n",
              "     <td></td>       <th>coef</th>     <th>std err</th>      <th>z</th>      <th>P>|z|</th>  <th>[0.025</th>    <th>0.975]</th>  \n",
              "</tr>\n",
              "<tr>\n",
              "  <th>ar.L1</th>  <td>   -0.9220</td> <td>    0.023</td> <td>  -39.603</td> <td> 0.000</td> <td>   -0.968</td> <td>   -0.876</td>\n",
              "</tr>\n",
              "<tr>\n",
              "  <th>ar.L2</th>  <td>   -0.6122</td> <td>    0.029</td> <td>  -21.078</td> <td> 0.000</td> <td>   -0.669</td> <td>   -0.555</td>\n",
              "</tr>\n",
              "<tr>\n",
              "  <th>ar.L3</th>  <td>   -0.4719</td> <td>    0.036</td> <td>  -13.066</td> <td> 0.000</td> <td>   -0.543</td> <td>   -0.401</td>\n",
              "</tr>\n",
              "<tr>\n",
              "  <th>ar.L4</th>  <td>   -0.4537</td> <td>    0.040</td> <td>  -11.320</td> <td> 0.000</td> <td>   -0.532</td> <td>   -0.375</td>\n",
              "</tr>\n",
              "<tr>\n",
              "  <th>ar.L5</th>  <td>   -0.3914</td> <td>    0.013</td> <td>  -30.665</td> <td> 0.000</td> <td>   -0.416</td> <td>   -0.366</td>\n",
              "</tr>\n",
              "<tr>\n",
              "  <th>ma.L1</th>  <td>    0.2642</td> <td>    0.024</td> <td>   11.172</td> <td> 0.000</td> <td>    0.218</td> <td>    0.311</td>\n",
              "</tr>\n",
              "<tr>\n",
              "  <th>ma.L2</th>  <td>    0.4200</td> <td>    0.018</td> <td>   23.901</td> <td> 0.000</td> <td>    0.386</td> <td>    0.454</td>\n",
              "</tr>\n",
              "<tr>\n",
              "  <th>ma.L3</th>  <td>    0.1171</td> <td>    0.038</td> <td>    3.114</td> <td> 0.002</td> <td>    0.043</td> <td>    0.191</td>\n",
              "</tr>\n",
              "<tr>\n",
              "  <th>ma.L4</th>  <td>   -0.0704</td> <td>    0.024</td> <td>   -2.910</td> <td> 0.004</td> <td>   -0.118</td> <td>   -0.023</td>\n",
              "</tr>\n",
              "<tr>\n",
              "  <th>sigma2</th> <td>   50.0015</td> <td>    0.258</td> <td>  193.529</td> <td> 0.000</td> <td>   49.495</td> <td>   50.508</td>\n",
              "</tr>\n",
              "</table>\n",
              "<table class=\"simpletable\">\n",
              "<tr>\n",
              "  <th>Ljung-Box (L1) (Q):</th>     <td>0.00</td> <th>  Jarque-Bera (JB):  </th> <td>2019057.43</td>\n",
              "</tr>\n",
              "<tr>\n",
              "  <th>Prob(Q):</th>                <td>0.99</td> <th>  Prob(JB):          </th>    <td>0.00</td>   \n",
              "</tr>\n",
              "<tr>\n",
              "  <th>Heteroskedasticity (H):</th> <td>0.14</td> <th>  Skew:              </th>    <td>5.98</td>   \n",
              "</tr>\n",
              "<tr>\n",
              "  <th>Prob(H) (two-sided):</th>    <td>0.00</td> <th>  Kurtosis:          </th>   <td>176.13</td>  \n",
              "</tr>\n",
              "</table><br/><br/>Warnings:<br/>[1] Covariance matrix calculated using the outer product of gradients (complex-step)."
            ],
            "text/plain": [
              "<class 'statsmodels.iolib.summary.Summary'>\n",
              "\"\"\"\n",
              "                               SARIMAX Results                                \n",
              "==============================================================================\n",
              "Dep. Variable:                      y   No. Observations:                 1610\n",
              "Model:               SARIMAX(5, 1, 4)   Log Likelihood               -5431.195\n",
              "Date:                Tue, 15 Jun 2021   AIC                          10882.389\n",
              "Time:                        22:00:21   BIC                          10936.223\n",
              "Sample:                             0   HQIC                         10902.374\n",
              "                               - 1610                                         \n",
              "Covariance Type:                  opg                                         \n",
              "==============================================================================\n",
              "                 coef    std err          z      P>|z|      [0.025      0.975]\n",
              "------------------------------------------------------------------------------\n",
              "ar.L1         -0.9220      0.023    -39.603      0.000      -0.968      -0.876\n",
              "ar.L2         -0.6122      0.029    -21.078      0.000      -0.669      -0.555\n",
              "ar.L3         -0.4719      0.036    -13.066      0.000      -0.543      -0.401\n",
              "ar.L4         -0.4537      0.040    -11.320      0.000      -0.532      -0.375\n",
              "ar.L5         -0.3914      0.013    -30.665      0.000      -0.416      -0.366\n",
              "ma.L1          0.2642      0.024     11.172      0.000       0.218       0.311\n",
              "ma.L2          0.4200      0.018     23.901      0.000       0.386       0.454\n",
              "ma.L3          0.1171      0.038      3.114      0.002       0.043       0.191\n",
              "ma.L4         -0.0704      0.024     -2.910      0.004      -0.118      -0.023\n",
              "sigma2        50.0015      0.258    193.529      0.000      49.495      50.508\n",
              "===================================================================================\n",
              "Ljung-Box (L1) (Q):                   0.00   Jarque-Bera (JB):           2019057.43\n",
              "Prob(Q):                              0.99   Prob(JB):                         0.00\n",
              "Heteroskedasticity (H):               0.14   Skew:                             5.98\n",
              "Prob(H) (two-sided):                  0.00   Kurtosis:                       176.13\n",
              "===================================================================================\n",
              "\n",
              "Warnings:\n",
              "[1] Covariance matrix calculated using the outer product of gradients (complex-step).\n",
              "\"\"\""
            ]
          },
          "metadata": {
            "tags": []
          },
          "execution_count": 228
        }
      ]
    },
    {
      "cell_type": "code",
      "metadata": {
        "id": "i2OiS6-gfKHs"
      },
      "source": [
        "from statsmodels.tsa.arima_model import ARIMA"
      ],
      "execution_count": null,
      "outputs": []
    },
    {
      "cell_type": "markdown",
      "metadata": {
        "id": "y-JQDC6yv9_y"
      },
      "source": [
        "#Split Data into Training and Testing"
      ]
    },
    {
      "cell_type": "code",
      "metadata": {
        "id": "h-SgGft2fYMF",
        "colab": {
          "base_uri": "https://localhost:8080/"
        },
        "outputId": "7ce84339-7804-4b1d-b654-0ab709e0fc93"
      },
      "source": [
        "print(df.shape)\n",
        "train=df.iloc[:-90]\n",
        "test=df.iloc[-90:]\n",
        "print(train.shape,test.shape)\n",
        "print(train.iloc[0],train.iloc[-1])\n",
        "print(test.iloc[0],test.iloc[-1])\n",
        "#print(test)"
      ],
      "execution_count": null,
      "outputs": [
        {
          "output_type": "stream",
          "text": [
            "(1610, 3)\n",
            "(1520, 3) (90, 3)\n",
            "Jan-20    24.99\n",
            "Apr-20     8.82\n",
            "Aug-20     0.84\n",
            "Name: 2020-04-10 16:27:17+00:00, dtype: float64 Jan-20    29.31\n",
            "Apr-20    21.42\n",
            "Aug-20     1.96\n",
            "Name: 2020-04-18 13:03:03+00:00, dtype: float64\n",
            "Jan-20    30.72\n",
            "Apr-20    23.39\n",
            "Aug-20     1.80\n",
            "Name: 2020-04-18 13:10:25+00:00, dtype: float64 Jan-20    33.17\n",
            "Apr-20    10.57\n",
            "Aug-20     4.14\n",
            "Name: 2020-04-18 23:59:56+00:00, dtype: float64\n"
          ],
          "name": "stdout"
        }
      ]
    },
    {
      "cell_type": "markdown",
      "metadata": {
        "id": "emUTK7M6wCmx"
      },
      "source": [
        "## Train the Model"
      ]
    },
    {
      "cell_type": "code",
      "metadata": {
        "id": "LKr5XHt0fbWT",
        "colab": {
          "base_uri": "https://localhost:8080/",
          "height": 610
        },
        "outputId": "2aa3cd46-c957-4c3e-bcab-2610af4bce1c"
      },
      "source": [
        "from statsmodels.tsa.arima_model import ARIMA\n",
        "model=ARIMA(train['Jan-20'],order=(5,1,4))\n",
        "model=model.fit()\n",
        "model.summary()\n"
      ],
      "execution_count": null,
      "outputs": [
        {
          "output_type": "execute_result",
          "data": {
            "text/html": [
              "<table class=\"simpletable\">\n",
              "<caption>ARIMA Model Results</caption>\n",
              "<tr>\n",
              "  <th>Dep. Variable:</th>     <td>D.Jan-20</td>     <th>  No. Observations:  </th>   <td>1519</td>   \n",
              "</tr>\n",
              "<tr>\n",
              "  <th>Model:</th>          <td>ARIMA(5, 1, 4)</td>  <th>  Log Likelihood     </th> <td>-5162.692</td>\n",
              "</tr>\n",
              "<tr>\n",
              "  <th>Method:</th>             <td>css-mle</td>     <th>  S.D. of innovations</th>   <td>7.237</td>  \n",
              "</tr>\n",
              "<tr>\n",
              "  <th>Date:</th>          <td>Tue, 15 Jun 2021</td> <th>  AIC                </th> <td>10347.385</td>\n",
              "</tr>\n",
              "<tr>\n",
              "  <th>Time:</th>              <td>22:01:04</td>     <th>  BIC                </th> <td>10405.969</td>\n",
              "</tr>\n",
              "<tr>\n",
              "  <th>Sample:</th>                <td>1</td>        <th>  HQIC               </th> <td>10369.196</td>\n",
              "</tr>\n",
              "<tr>\n",
              "  <th></th>                       <td> </td>        <th>                     </th>     <td> </td>    \n",
              "</tr>\n",
              "</table>\n",
              "<table class=\"simpletable\">\n",
              "<tr>\n",
              "         <td></td>           <th>coef</th>     <th>std err</th>      <th>z</th>      <th>P>|z|</th>  <th>[0.025</th>    <th>0.975]</th>  \n",
              "</tr>\n",
              "<tr>\n",
              "  <th>const</th>          <td>    0.0027</td> <td>    0.084</td> <td>    0.032</td> <td> 0.974</td> <td>   -0.161</td> <td>    0.167</td>\n",
              "</tr>\n",
              "<tr>\n",
              "  <th>ar.L1.D.Jan-20</th> <td>   -0.9217</td> <td>    0.058</td> <td>  -15.851</td> <td> 0.000</td> <td>   -1.036</td> <td>   -0.808</td>\n",
              "</tr>\n",
              "<tr>\n",
              "  <th>ar.L2.D.Jan-20</th> <td>   -0.6165</td> <td>    0.069</td> <td>   -8.933</td> <td> 0.000</td> <td>   -0.752</td> <td>   -0.481</td>\n",
              "</tr>\n",
              "<tr>\n",
              "  <th>ar.L3.D.Jan-20</th> <td>   -0.4811</td> <td>    0.069</td> <td>   -6.993</td> <td> 0.000</td> <td>   -0.616</td> <td>   -0.346</td>\n",
              "</tr>\n",
              "<tr>\n",
              "  <th>ar.L4.D.Jan-20</th> <td>   -0.4561</td> <td>    0.060</td> <td>   -7.554</td> <td> 0.000</td> <td>   -0.574</td> <td>   -0.338</td>\n",
              "</tr>\n",
              "<tr>\n",
              "  <th>ar.L5.D.Jan-20</th> <td>   -0.3918</td> <td>    0.034</td> <td>  -11.592</td> <td> 0.000</td> <td>   -0.458</td> <td>   -0.326</td>\n",
              "</tr>\n",
              "<tr>\n",
              "  <th>ma.L1.D.Jan-20</th> <td>    0.2631</td> <td>    0.063</td> <td>    4.202</td> <td> 0.000</td> <td>    0.140</td> <td>    0.386</td>\n",
              "</tr>\n",
              "<tr>\n",
              "  <th>ma.L2.D.Jan-20</th> <td>    0.4300</td> <td>    0.057</td> <td>    7.537</td> <td> 0.000</td> <td>    0.318</td> <td>    0.542</td>\n",
              "</tr>\n",
              "<tr>\n",
              "  <th>ma.L3.D.Jan-20</th> <td>    0.1253</td> <td>    0.058</td> <td>    2.150</td> <td> 0.032</td> <td>    0.011</td> <td>    0.240</td>\n",
              "</tr>\n",
              "<tr>\n",
              "  <th>ma.L4.D.Jan-20</th> <td>   -0.0757</td> <td>    0.050</td> <td>   -1.507</td> <td> 0.132</td> <td>   -0.174</td> <td>    0.023</td>\n",
              "</tr>\n",
              "</table>\n",
              "<table class=\"simpletable\">\n",
              "<caption>Roots</caption>\n",
              "<tr>\n",
              "    <td></td>   <th>            Real</th>  <th>         Imaginary</th> <th>         Modulus</th>  <th>        Frequency</th>\n",
              "</tr>\n",
              "<tr>\n",
              "  <th>AR.1</th> <td>           0.6584</td> <td>          -1.0494j</td> <td>           1.2389</td> <td>          -0.1608</td>\n",
              "</tr>\n",
              "<tr>\n",
              "  <th>AR.2</th> <td>           0.6584</td> <td>          +1.0494j</td> <td>           1.2389</td> <td>           0.1608</td>\n",
              "</tr>\n",
              "<tr>\n",
              "  <th>AR.3</th> <td>          -1.1658</td> <td>          -0.0000j</td> <td>           1.1658</td> <td>          -0.5000</td>\n",
              "</tr>\n",
              "<tr>\n",
              "  <th>AR.4</th> <td>          -0.6576</td> <td>          -0.9971j</td> <td>           1.1944</td> <td>          -0.3428</td>\n",
              "</tr>\n",
              "<tr>\n",
              "  <th>AR.5</th> <td>          -0.6576</td> <td>          +0.9971j</td> <td>           1.1944</td> <td>           0.3428</td>\n",
              "</tr>\n",
              "<tr>\n",
              "  <th>MA.1</th> <td>          -0.0279</td> <td>          -1.3380j</td> <td>           1.3383</td> <td>          -0.2533</td>\n",
              "</tr>\n",
              "<tr>\n",
              "  <th>MA.2</th> <td>          -0.0279</td> <td>          +1.3380j</td> <td>           1.3383</td> <td>           0.2533</td>\n",
              "</tr>\n",
              "<tr>\n",
              "  <th>MA.3</th> <td>          -1.9920</td> <td>          -0.0000j</td> <td>           1.9920</td> <td>          -0.5000</td>\n",
              "</tr>\n",
              "<tr>\n",
              "  <th>MA.4</th> <td>           3.7034</td> <td>          -0.0000j</td> <td>           3.7034</td> <td>          -0.0000</td>\n",
              "</tr>\n",
              "</table>"
            ],
            "text/plain": [
              "<class 'statsmodels.iolib.summary.Summary'>\n",
              "\"\"\"\n",
              "                             ARIMA Model Results                              \n",
              "==============================================================================\n",
              "Dep. Variable:               D.Jan-20   No. Observations:                 1519\n",
              "Model:                 ARIMA(5, 1, 4)   Log Likelihood               -5162.692\n",
              "Method:                       css-mle   S.D. of innovations              7.237\n",
              "Date:                Tue, 15 Jun 2021   AIC                          10347.385\n",
              "Time:                        22:01:04   BIC                          10405.969\n",
              "Sample:                             1   HQIC                         10369.196\n",
              "                                                                              \n",
              "==================================================================================\n",
              "                     coef    std err          z      P>|z|      [0.025      0.975]\n",
              "----------------------------------------------------------------------------------\n",
              "const              0.0027      0.084      0.032      0.974      -0.161       0.167\n",
              "ar.L1.D.Jan-20    -0.9217      0.058    -15.851      0.000      -1.036      -0.808\n",
              "ar.L2.D.Jan-20    -0.6165      0.069     -8.933      0.000      -0.752      -0.481\n",
              "ar.L3.D.Jan-20    -0.4811      0.069     -6.993      0.000      -0.616      -0.346\n",
              "ar.L4.D.Jan-20    -0.4561      0.060     -7.554      0.000      -0.574      -0.338\n",
              "ar.L5.D.Jan-20    -0.3918      0.034    -11.592      0.000      -0.458      -0.326\n",
              "ma.L1.D.Jan-20     0.2631      0.063      4.202      0.000       0.140       0.386\n",
              "ma.L2.D.Jan-20     0.4300      0.057      7.537      0.000       0.318       0.542\n",
              "ma.L3.D.Jan-20     0.1253      0.058      2.150      0.032       0.011       0.240\n",
              "ma.L4.D.Jan-20    -0.0757      0.050     -1.507      0.132      -0.174       0.023\n",
              "                                    Roots                                    \n",
              "=============================================================================\n",
              "                  Real          Imaginary           Modulus         Frequency\n",
              "-----------------------------------------------------------------------------\n",
              "AR.1            0.6584           -1.0494j            1.2389           -0.1608\n",
              "AR.2            0.6584           +1.0494j            1.2389            0.1608\n",
              "AR.3           -1.1658           -0.0000j            1.1658           -0.5000\n",
              "AR.4           -0.6576           -0.9971j            1.1944           -0.3428\n",
              "AR.5           -0.6576           +0.9971j            1.1944            0.3428\n",
              "MA.1           -0.0279           -1.3380j            1.3383           -0.2533\n",
              "MA.2           -0.0279           +1.3380j            1.3383            0.2533\n",
              "MA.3           -1.9920           -0.0000j            1.9920           -0.5000\n",
              "MA.4            3.7034           -0.0000j            3.7034           -0.0000\n",
              "-----------------------------------------------------------------------------\n",
              "\"\"\""
            ]
          },
          "metadata": {
            "tags": []
          },
          "execution_count": 232
        }
      ]
    },
    {
      "cell_type": "markdown",
      "metadata": {
        "id": "QnJXQ4iBwFec"
      },
      "source": [
        "#Make Predictions on Test Set"
      ]
    },
    {
      "cell_type": "code",
      "metadata": {
        "id": "2ZtJTygKfg5i",
        "colab": {
          "base_uri": "https://localhost:8080/"
        },
        "outputId": "17ed41a1-bf26-49a8-9e2e-81ed05df6dba"
      },
      "source": [
        "start=len(train)\n",
        "end=len(train)+len(test)-1\n",
        "#if the predicted values dont have date values as index, you will have to uncomment the following two commented lines to cplot a graph\n",
        "#df[\"Date\"]= pd.to_datetime(df.[\"Date\"])\n",
        "pred=model.predict(start=start,end=end,typ='levels').rename('ARIMA predictions')\n",
        "#print(index_future_dates)\n",
        "#pred.index=index_future_dates\n",
        "pred.index=df.index[start:end+1]\n",
        "print(pred)\n",
        "#pred.plot(legend=True)\n",
        "#test['Apr-20'].plot(legend=True)\n"
      ],
      "execution_count": null,
      "outputs": [
        {
          "output_type": "stream",
          "text": [
            "DATE\n",
            "2020-04-18 13:10:25+00:00    28.795497\n",
            "2020-04-18 13:17:45+00:00    27.105832\n",
            "2020-04-18 13:25:05+00:00    30.501665\n",
            "2020-04-18 13:32:29+00:00    30.554295\n",
            "2020-04-18 13:39:54+00:00    30.253804\n",
            "                               ...    \n",
            "2020-04-18 23:59:56+00:00    29.928005\n",
            "2020-04-18 23:59:56+00:00    29.930688\n",
            "2020-04-18 23:59:56+00:00    29.933367\n",
            "2020-04-18 23:59:56+00:00    29.936049\n",
            "2020-04-18 23:59:56+00:00    29.938729\n",
            "Name: ARIMA predictions, Length: 90, dtype: float64\n"
          ],
          "name": "stdout"
        }
      ]
    },
    {
      "cell_type": "code",
      "metadata": {
        "id": "grTT31Tdfqfb",
        "colab": {
          "base_uri": "https://localhost:8080/",
          "height": 296
        },
        "outputId": "7fea6962-12c2-4e5d-e8c2-5eb1eb5aa5a2"
      },
      "source": [
        "pred.plot(legend='ARIMA Predictions')\n",
        "test['Jan-20'].plot(legend=True)"
      ],
      "execution_count": null,
      "outputs": [
        {
          "output_type": "execute_result",
          "data": {
            "text/plain": [
              "<matplotlib.axes._subplots.AxesSubplot at 0x7fe3afb65750>"
            ]
          },
          "metadata": {
            "tags": []
          },
          "execution_count": 237
        },
        {
          "output_type": "display_data",
          "data": {
            "image/png": "[encoded data removed]",
            "text/plain": [
              "<Figure size 432x288 with 1 Axes>"
            ]
          },
          "metadata": {
            "tags": [],
            "needs_background": "light"
          }
        }
      ]
    },
    {
      "cell_type": "code",
      "metadata": {
        "id": "3R2eTZHDfz5H",
        "colab": {
          "base_uri": "https://localhost:8080/"
        },
        "outputId": "ee0f8da5-40e9-46a9-a9bd-e3c1a4cdac46"
      },
      "source": [
        "test['Jan-20'].mean()"
      ],
      "execution_count": null,
      "outputs": [
        {
          "output_type": "execute_result",
          "data": {
            "text/plain": [
              "30.352666666666654"
            ]
          },
          "metadata": {
            "tags": []
          },
          "execution_count": 239
        }
      ]
    },
    {
      "cell_type": "code",
      "metadata": {
        "id": "zQ7SB2lQux5x",
        "colab": {
          "base_uri": "https://localhost:8080/"
        },
        "outputId": "05101cff-035f-4325-e6da-3ad0517beb05"
      },
      "source": [
        "from sklearn.metrics import mean_squared_error\n",
        "from math import sqrt\n",
        "rmse=sqrt(mean_squared_error(pred,test['Jan-20']))\n",
        "print(rmse)\n"
      ],
      "execution_count": null,
      "outputs": [
        {
          "output_type": "stream",
          "text": [
            "3.3008602694499167\n"
          ],
          "name": "stdout"
        }
      ]
    },
    {
      "cell_type": "code",
      "metadata": {
        "id": "DgJUq_lGvV10",
        "colab": {
          "base_uri": "https://localhost:8080/",
          "height": 234
        },
        "outputId": "d2c3aa58-95f7-40ec-ce5a-e74a1db88a6c"
      },
      "source": [
        "model2=ARIMA(df['Jan-20'],order=(5,1,4))\n",
        "model2=model2.fit()\n",
        "df.tail()"
      ],
      "execution_count": null,
      "outputs": [
        {
          "output_type": "execute_result",
          "data": {
            "text/html": [
              "<div>\n",
              "<style scoped>\n",
              "    .dataframe tbody tr th:only-of-type {\n",
              "        vertical-align: middle;\n",
              "    }\n",
              "\n",
              "    .dataframe tbody tr th {\n",
              "        vertical-align: top;\n",
              "    }\n",
              "\n",
              "    .dataframe thead th {\n",
              "        text-align: right;\n",
              "    }\n",
              "</style>\n",
              "<table border=\"1\" class=\"dataframe\">\n",
              "  <thead>\n",
              "    <tr style=\"text-align: right;\">\n",
              "      <th></th>\n",
              "      <th>Jan-20</th>\n",
              "      <th>Apr-20</th>\n",
              "      <th>Aug-20</th>\n",
              "    </tr>\n",
              "    <tr>\n",
              "      <th>DATE</th>\n",
              "      <th></th>\n",
              "      <th></th>\n",
              "      <th></th>\n",
              "    </tr>\n",
              "  </thead>\n",
              "  <tbody>\n",
              "    <tr>\n",
              "      <th>2020-04-18 23:59:56+00:00</th>\n",
              "      <td>28.91</td>\n",
              "      <td>11.87</td>\n",
              "      <td>2.09</td>\n",
              "    </tr>\n",
              "    <tr>\n",
              "      <th>2020-04-18 23:59:56+00:00</th>\n",
              "      <td>30.83</td>\n",
              "      <td>12.07</td>\n",
              "      <td>3.47</td>\n",
              "    </tr>\n",
              "    <tr>\n",
              "      <th>2020-04-18 23:59:56+00:00</th>\n",
              "      <td>31.10</td>\n",
              "      <td>11.49</td>\n",
              "      <td>5.20</td>\n",
              "    </tr>\n",
              "    <tr>\n",
              "      <th>2020-04-18 23:59:56+00:00</th>\n",
              "      <td>36.09</td>\n",
              "      <td>11.56</td>\n",
              "      <td>7.19</td>\n",
              "    </tr>\n",
              "    <tr>\n",
              "      <th>2020-04-18 23:59:56+00:00</th>\n",
              "      <td>33.17</td>\n",
              "      <td>10.57</td>\n",
              "      <td>4.14</td>\n",
              "    </tr>\n",
              "  </tbody>\n",
              "</table>\n",
              "</div>"
            ],
            "text/plain": [
              "                           Jan-20  Apr-20  Aug-20\n",
              "DATE                                             \n",
              "2020-04-18 23:59:56+00:00   28.91   11.87    2.09\n",
              "2020-04-18 23:59:56+00:00   30.83   12.07    3.47\n",
              "2020-04-18 23:59:56+00:00   31.10   11.49    5.20\n",
              "2020-04-18 23:59:56+00:00   36.09   11.56    7.19\n",
              "2020-04-18 23:59:56+00:00   33.17   10.57    4.14"
            ]
          },
          "metadata": {
            "tags": []
          },
          "execution_count": 241
        }
      ]
    },
    {
      "cell_type": "markdown",
      "metadata": {
        "id": "hQ4chXSmvSZw"
      },
      "source": [
        "#For Future Dates"
      ]
    },
    {
      "cell_type": "code",
      "metadata": {
        "id": "ZsjzMPfKqVag",
        "colab": {
          "base_uri": "https://localhost:8080/"
        },
        "outputId": "84a0f002-8ffe-4ab4-d981-48b7e23d3404"
      },
      "source": [
        "#index_future_dates=pd.date_range(start='2020-04-18 23:59:56+00:00',end='2020-04-20 16:19:51+00:00')\n",
        "#print(index_future_dates)\n",
        "#print('Shape of data',index_future_dates.shape)\n",
        "pred=model2.predict(start=len(df),end=len(df)+89,typ='levels').rename('ARIMA Predictions')\n",
        "pred.index=df.index[start:end+1]\n",
        "#print(comp_pred)\n",
        "#pred.index=index_future_dates\n",
        "print(pred)"
      ],
      "execution_count": null,
      "outputs": [
        {
          "output_type": "stream",
          "text": [
            "DATE\n",
            "2020-04-18 13:10:25+00:00    33.909236\n",
            "2020-04-18 13:17:45+00:00    33.169555\n",
            "2020-04-18 13:25:05+00:00    32.220275\n",
            "2020-04-18 13:32:29+00:00    32.473469\n",
            "2020-04-18 13:39:54+00:00    33.995981\n",
            "                               ...    \n",
            "2020-04-18 23:59:56+00:00    33.540905\n",
            "2020-04-18 23:59:56+00:00    33.545576\n",
            "2020-04-18 23:59:56+00:00    33.550244\n",
            "2020-04-18 23:59:56+00:00    33.554915\n",
            "2020-04-18 23:59:56+00:00    33.559584\n",
            "Name: ARIMA Predictions, Length: 90, dtype: float64\n"
          ],
          "name": "stdout"
        }
      ]
    },
    {
      "cell_type": "code",
      "metadata": {
        "id": "hPgempSauwqo",
        "colab": {
          "base_uri": "https://localhost:8080/",
          "height": 306
        },
        "outputId": "6b27f16c-ede8-4134-ad2f-f77394c3fd57"
      },
      "source": [
        "pred.plot(figsize=(12,5),legend=True)\n"
      ],
      "execution_count": null,
      "outputs": [
        {
          "output_type": "execute_result",
          "data": {
            "text/plain": [
              "<matplotlib.axes._subplots.AxesSubplot at 0x7fe3b023d0d0>"
            ]
          },
          "metadata": {
            "tags": []
          },
          "execution_count": 247
        },
        {
          "output_type": "display_data",
          "data": {
            "image/png": "[encoded data removed]",
            "text/plain": [
              "<Figure size 864x360 with 1 Axes>"
            ]
          },
          "metadata": {
            "tags": [],
            "needs_background": "light"
          }
        }
      ]
    },
    {
      "cell_type": "code",
      "metadata": {
        "id": "JeeTSWbZww7r"
      },
      "source": [
        ""
      ],
      "execution_count": null,
      "outputs": []
    }
  ]
}